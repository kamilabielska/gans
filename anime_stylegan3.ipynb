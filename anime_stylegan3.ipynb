{
  "cells": [
    {
      "cell_type": "markdown",
      "metadata": {
        "id": "qmCgfGj6b9YW"
      },
      "source": [
        "# set up the environment"
      ]
    },
    {
      "cell_type": "markdown",
      "metadata": {
        "id": "3tDijjAScHmr"
      },
      "source": [
        "get miniconda with python 3.9"
      ]
    },
    {
      "cell_type": "code",
      "execution_count": 1,
      "metadata": {
        "id": "HgJHbMjRLHUH"
      },
      "outputs": [],
      "source": [
        "%%capture\n",
        "%%bash\n",
        "\n",
        "MINICONDA_INSTALLER_SCRIPT=Miniconda3-py39_23.3.1-0-Linux-x86_64.sh\n",
        "MINICONDA_PREFIX=/usr/local\n",
        "wget https://repo.continuum.io/miniconda/$MINICONDA_INSTALLER_SCRIPT\n",
        "chmod +x $MINICONDA_INSTALLER_SCRIPT\n",
        "./$MINICONDA_INSTALLER_SCRIPT -b -f -p $MINICONDA_PREFIX"
      ]
    },
    {
      "cell_type": "code",
      "execution_count": 2,
      "metadata": {
        "id": "WmjXZuM_LTOO"
      },
      "outputs": [],
      "source": [
        "import sys\n",
        "sys.path.append('/usr/local/lib/python3.9/site-packages')"
      ]
    },
    {
      "cell_type": "markdown",
      "metadata": {
        "id": "cygqYjxdcMO9"
      },
      "source": [
        "set up the environment from StyleGAN 3 repo with conda + install/downgrade some packages that were causing errors"
      ]
    },
    {
      "cell_type": "code",
      "execution_count": null,
      "metadata": {
        "id": "5D780IpOL1Q4"
      },
      "outputs": [],
      "source": [
        "!git clone -q https://github.com/NVlabs/stylegan3\n",
        "!conda env update -q -n base -f stylegan3/environment.yml\n",
        "!conda install -q -y psutil numpy==1.22.3 setuptools==58.0.4"
      ]
    },
    {
      "cell_type": "markdown",
      "metadata": {
        "id": "AMjHUhkVCgOx"
      },
      "source": [
        "connect with drive"
      ]
    },
    {
      "cell_type": "code",
      "execution_count": 4,
      "metadata": {
        "colab": {
          "base_uri": "https://localhost:8080/"
        },
        "id": "9ugFYceclzgL",
        "outputId": "7ba652da-773f-43e0-8b40-0d26bd080dcf"
      },
      "outputs": [
        {
          "output_type": "stream",
          "name": "stdout",
          "text": [
            "Mounted at /content/drive\n"
          ]
        }
      ],
      "source": [
        "from google.colab import drive\n",
        "drive.mount('/content/drive', force_remount=True)"
      ]
    },
    {
      "cell_type": "markdown",
      "source": [
        "get the data"
      ],
      "metadata": {
        "id": "a04ZyLtowSD_"
      }
    },
    {
      "cell_type": "code",
      "source": [
        "!cp -r 'drive/My Drive/anime.zip' ."
      ],
      "metadata": {
        "id": "MfyLIn7oQ6Lj"
      },
      "execution_count": null,
      "outputs": []
    },
    {
      "cell_type": "markdown",
      "metadata": {
        "id": "v34MyL93cud5"
      },
      "source": [
        "# train the model from scratch"
      ]
    },
    {
      "cell_type": "markdown",
      "source": [
        "preprocess the data"
      ],
      "metadata": {
        "id": "fmnvZe5vqXIR"
      }
    },
    {
      "cell_type": "code",
      "source": [
        "!python stylegan3/dataset_tool.py --source=anime.zip --dest=anime_64x64.zip \\\n",
        "    --transform=center-crop --resolution=64x64"
      ],
      "metadata": {
        "colab": {
          "base_uri": "https://localhost:8080/"
        },
        "id": "Vi5gWfPGQqzs",
        "outputId": "ac999a9e-5bd0-4972-e50c-10e0dee713b8"
      },
      "execution_count": null,
      "outputs": [
        {
          "output_type": "stream",
          "name": "stdout",
          "text": [
            "100% 63565/63565 [05:37<00:00, 188.39it/s]\n"
          ]
        }
      ]
    },
    {
      "cell_type": "code",
      "source": [
        "DATA_PATH = 'anime_64x64.zip'\n",
        "OUT_PATH = 'drive/My Drive/stylegan3_output'"
      ],
      "metadata": {
        "id": "J9ojGzXUcmfZ"
      },
      "execution_count": null,
      "outputs": []
    },
    {
      "cell_type": "markdown",
      "metadata": {
        "id": "TNdnhSbxFQpm"
      },
      "source": [
        "activate tensorboard"
      ]
    },
    {
      "cell_type": "code",
      "execution_count": null,
      "metadata": {
        "id": "4miZ11oVRnLq"
      },
      "outputs": [],
      "source": [
        "!conda install -q -y tensorboard"
      ]
    },
    {
      "cell_type": "code",
      "execution_count": null,
      "metadata": {
        "id": "EhcSCcPZPVrU"
      },
      "outputs": [],
      "source": [
        "%load_ext tensorboard\n",
        "%tensorboard --logdir \"$OUT_PATH\""
      ]
    },
    {
      "cell_type": "markdown",
      "metadata": {
        "id": "Ic7MaGqcFcto"
      },
      "source": [
        "train the model"
      ]
    },
    {
      "cell_type": "code",
      "source": [
        "batch_size = 64\n",
        "gamma = 1\n",
        "snap = 10"
      ],
      "metadata": {
        "id": "fj7gRw1YaS3L"
      },
      "execution_count": null,
      "outputs": []
    },
    {
      "cell_type": "code",
      "source": [
        "!python stylegan3/train.py --outdir=\"$OUT_PATH\" --data=\"$DATA_PATH\" \\\n",
        "    --cfg=stylegan3-t --cbase=16384 --workers=2 --gpus=1 --aug=noaug --mirror=1 \\\n",
        "    --batch=$batch_size --gamma=$gamma --snap=$snap"
      ],
      "metadata": {
        "id": "25-Es9g-bW50"
      },
      "execution_count": null,
      "outputs": []
    },
    {
      "cell_type": "markdown",
      "metadata": {
        "id": "Sks0zXWNHeUf"
      },
      "source": [
        "resume the training if interrupted"
      ]
    },
    {
      "cell_type": "code",
      "execution_count": null,
      "metadata": {
        "id": "TonsDGBVzA0Y"
      },
      "outputs": [],
      "source": [
        "resume_net = '00008-stylegan3-t-anime_resized-gpus1-batch64-gamma1/network-snapshot-000322.pkl'\n",
        "resume_path = fr'{OUT_PATH}/{resume_net}'"
      ]
    },
    {
      "cell_type": "code",
      "source": [
        "!python stylegan3/train.py --outdir=\"$OUT_PATH\" --data=\"$DATA_PATH\" \\\n",
        "    --cfg=stylegan3-t --cbase=16384 --workers=2 --gpus=1 --aug=noaug --mirror=1 \\\n",
        "    --batch=$batch_size --gamma=$gamma --snap=$snap --resume=\"$resume_path\""
      ],
      "metadata": {
        "id": "E5_bkR4VyVaW"
      },
      "execution_count": null,
      "outputs": []
    },
    {
      "cell_type": "markdown",
      "source": [
        "# transfer learning"
      ],
      "metadata": {
        "id": "kEBcauqCcosq"
      }
    },
    {
      "cell_type": "code",
      "source": [
        "!python stylegan3/dataset_tool.py --source=anime.zip --dest=anime_256x256.zip \\\n",
        "    --transform=center-crop --resolution=256x256"
      ],
      "metadata": {
        "colab": {
          "base_uri": "https://localhost:8080/"
        },
        "outputId": "ac999a9e-5bd0-4972-e50c-10e0dee713b8",
        "id": "wMO-35KPwgPP"
      },
      "execution_count": null,
      "outputs": [
        {
          "output_type": "stream",
          "name": "stdout",
          "text": [
            "100% 63565/63565 [05:37<00:00, 188.39it/s]\n"
          ]
        }
      ]
    },
    {
      "cell_type": "code",
      "source": [
        "DATA_PATH = 'anime_256x256.zip'\n",
        "OUT_PATH = 'drive/My Drive/stylegan3_output'"
      ],
      "metadata": {
        "id": "J6fXfXb5wgPU"
      },
      "execution_count": 8,
      "outputs": []
    },
    {
      "cell_type": "markdown",
      "source": [
        "choose a model from the Nvidia repository and fine-tune it on our data with some layers freezed"
      ],
      "metadata": {
        "id": "1Fzk2gzCq2W7"
      }
    },
    {
      "cell_type": "code",
      "source": [
        "model = 'https://api.ngc.nvidia.com/v2/models/nvidia/research/stylegan3/versions/1/files/stylegan3-t-ffhqu-256x256.pkl'"
      ],
      "metadata": {
        "id": "yNL2mValS4uR"
      },
      "execution_count": null,
      "outputs": []
    },
    {
      "cell_type": "code",
      "source": [
        "batch_size = 16\n",
        "gamma = 1\n",
        "snap = 2"
      ],
      "metadata": {
        "id": "Xr0ZhDZdUUJo"
      },
      "execution_count": null,
      "outputs": []
    },
    {
      "cell_type": "code",
      "source": [
        "!python stylegan3/train.py --outdir=\"$OUT_PATH\" --data=\"$DATA_PATH\" \\\n",
        "    --cfg=stylegan3-t --cbase=16384 --workers=2 --gpus=1 --aug=noaug --metrics=none \\\n",
        "    --freezed=10 --batch=$batch_size --gamma=$gamma --snap=$snap --resume=\"$model\""
      ],
      "metadata": {
        "id": "vjSZmfB7TVkO"
      },
      "execution_count": null,
      "outputs": []
    },
    {
      "cell_type": "markdown",
      "metadata": {
        "id": "QW4ahR4SLmGb"
      },
      "source": [
        "# generate progress gif"
      ]
    },
    {
      "cell_type": "code",
      "source": [
        "!git clone -q https://github.com/kamilabielska/gans"
      ],
      "metadata": {
        "id": "CUbgmOPotnmH"
      },
      "execution_count": 5,
      "outputs": []
    },
    {
      "cell_type": "code",
      "execution_count": 6,
      "metadata": {
        "id": "aQh5UADcTBsc"
      },
      "outputs": [],
      "source": [
        "import os\n",
        "import glob\n",
        "import matplotlib.pyplot as plt\n",
        "import cv2\n",
        "\n",
        "from gans.utils.vizualization import gif_from_image_folder"
      ]
    },
    {
      "cell_type": "code",
      "execution_count": 7,
      "metadata": {
        "id": "gHKl5GpnMEfV"
      },
      "outputs": [],
      "source": [
        "IMAGE_OUT_PATH = 'drive/My Drive/stylegan3_images'\n",
        "PROGRESS_PATH = 'drive/My Drive/stylegan3_progress'"
      ]
    },
    {
      "cell_type": "code",
      "source": [
        "%%capture\n",
        "\n",
        "for i, model_name in enumerate(glob.glob('**/network*.pkl', recursive=True, root_dir=OUT_PATH)):\n",
        "    model_path = os.path.join(OUT_PATH, model_name)\n",
        "    !python stylegan3/gen_images.py --outdir=\"$IMAGE_OUT_PATH\" --seeds=42-45 --network=\"$model_path\"\n",
        "\n",
        "    fig, axes = plt.subplots(1, 4, figsize=(16,5))\n",
        "    axes = axes.flatten()\n",
        "    for j, filename in enumerate(os.listdir(IMAGE_OUT_PATH)):\n",
        "        filepath = os.path.join(IMAGE_OUT_PATH, filename)\n",
        "        image = cv2.cvtColor(cv2.imread(filepath), cv2.COLOR_BGR2RGB)\n",
        "        axes[j].imshow(image)\n",
        "        axes[j].axis('off')\n",
        "        os.remove(filepath)\n",
        "\n",
        "    plt.savefig(os.path.join(PROGRESS_PATH, fr'{str(i)}.jpg'), bbox_inches='tight')\n",
        "    plt.close(fig)"
      ],
      "metadata": {
        "id": "dJhtboxzuex5"
      },
      "execution_count": 9,
      "outputs": []
    },
    {
      "cell_type": "code",
      "execution_count": 10,
      "metadata": {
        "id": "jlzijHGDIPw1"
      },
      "outputs": [],
      "source": [
        "gif_from_image_folder(PROGRESS_PATH, 'drive/My Drive/stylegan3_progress.gif')"
      ]
    },
    {
      "cell_type": "markdown",
      "source": [
        "# generate interpolation video"
      ],
      "metadata": {
        "id": "jYx4UapO3rSc"
      }
    },
    {
      "cell_type": "code",
      "source": [
        "final_model = fr'{OUT_PATH}/00004-stylegan3-t-anime_256x256-gpus1-batch16-gamma1/network-snapshot-000168.pkl'\n",
        "video_path = 'drive/My Drive/stylegan3_inter.mp4'"
      ],
      "metadata": {
        "id": "2l9o-J-G4GET"
      },
      "execution_count": 19,
      "outputs": []
    },
    {
      "cell_type": "code",
      "execution_count": null,
      "metadata": {
        "id": "phxmNB3fO4fY"
      },
      "outputs": [],
      "source": [
        "!python stylegan3/gen_video.py --output=\"$video_path\" --trunc=1 --seeds=0-43 --grid=4x1 --network=\"$final_model\""
      ]
    },
    {
      "cell_type": "code",
      "source": [],
      "metadata": {
        "id": "ODsa8vCW4yHX"
      },
      "execution_count": null,
      "outputs": []
    }
  ],
  "metadata": {
    "colab": {
      "provenance": [],
      "gpuType": "T4",
      "machine_shape": "hm"
    },
    "kernelspec": {
      "display_name": "Python 3",
      "name": "python3"
    },
    "language_info": {
      "name": "python"
    },
    "accelerator": "GPU"
  },
  "nbformat": 4,
  "nbformat_minor": 0
}